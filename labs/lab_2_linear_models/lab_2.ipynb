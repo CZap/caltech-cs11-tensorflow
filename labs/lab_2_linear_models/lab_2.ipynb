{
 "cells": [
  {
   "cell_type": "markdown",
   "metadata": {},
   "source": [
    "# Lab 2: Linear Models\n",
    "This lab, like the others that follow it, will be a small, largely self-guided project in building a machine learning model.\n",
    "You will write a logistic regression classifier, from scratch, to classify 28x28 pixel images of handwritten digits (0 - 9) by which digit appears in the image.\n",
    "This is [the famous MNIST dataset](http://yann.lecun.com/exdb/mnist/), which has 60,000 training examples and 10,000 test examples."
   ]
  },
  {
   "cell_type": "code",
   "execution_count": 1,
   "metadata": {},
   "outputs": [],
   "source": [
    "%matplotlib inline\n",
    "import numpy as np\n",
    "import tensorflow as tf\n",
    "import matplotlib.pyplot as plt\n",
    "# Any other imports you need go here"
   ]
  },
  {
   "cell_type": "markdown",
   "metadata": {},
   "source": [
    "## Section 0: download the data\n",
    "Download the data as a CSV [here](https://pjreddie.com/projects/mnist-in-csv/) (the original data format is very unfriendly) and read the data format on the website."
   ]
  },
  {
   "cell_type": "markdown",
   "metadata": {},
   "source": [
    "## Section 1: load, understand, and preprocess the data\n",
    "Load the data from disk into four numpy arrays: x_train (feature vectors from the training set), y_train (labels from the training set), x_test (feature vectors from the test set), and y_test (labels from the test set).\n",
    "\n",
    "Then, do some simple preprocessing.\n",
    "Normalize your features by subtracting the mean and dividing by the range.\n",
    "This is less important for linear models, but is generally good practice and will be much more important with more complex models.\n",
    "Make sure you don't use any values computed from the test set, just the mean and range of the training set.\n",
    "\n",
    "Finally, display one of the training images, and print its correct label.\n",
    "\n",
    "Functions to look at:\n",
    " - `np.loadtxt`\n",
    " - `np.reshape`\n",
    " - `plt.imshow`"
   ]
  },
  {
   "cell_type": "code",
   "execution_count": 22,
   "metadata": {},
   "outputs": [],
   "source": [
    "y_train = np.loadtxt('mnist_train.csv', delimiter = ',', usecols = [0])\n",
    "y_test = np.loadtxt('mnist_test.csv', delimiter = ',', usecols = [0])\n",
    "x_train = np.loadtxt('mnist_train.csv', delimiter = ',')\n",
    "x_test = np.loadtxt('mnist_test.csv', delimiter = ',')\n",
    "x_train = np.delete(x_train, 0, axis = 1) #removing the first column from the features arrays\n",
    "x_test = np.delete(x_test, 0, axis = 1)\n",
    "x_train_mean = tf.reduce_mean(x_train) #calculating mean\n",
    "x_train_range = np.abs(tf.reduce_max(x_train) - tf.reduce_min(x_train)) #calculating range\n",
    "x_train = (x_train - x_train_mean) / x_train_range #normalizing features\n",
    "x_test = (x_test - x_train_mean) / x_train_range"
   ]
  },
  {
   "cell_type": "code",
   "execution_count": 31,
   "metadata": {},
   "outputs": [
    {
     "name": "stdout",
     "output_type": "stream",
     "text": [
      "5.0\n",
      "Input shape: (10000, 784)\n"
     ]
    },
    {
     "data": {
      "image/png": "[encoded data removed]",
      "text/plain": [
       "<Figure size 432x288 with 1 Axes>"
      ]
     },
     "metadata": {
      "needs_background": "light"
     },
     "output_type": "display_data"
    }
   ],
   "source": [
    "plt.imshow(np.reshape(x_train[0], (28, 28)), cmap='gray') #show training image by reshaping the row to a square matrix\n",
    "print(y_train[0]) #print label for first training image"
   ]
  },
  {
   "cell_type": "markdown",
   "metadata": {},
   "source": [
    "## Section 2: build a data pipeline\n",
    "Make a pipeline that turns the dataset you have in numpy arrays into tensors that your model can use.\n",
    "The pipeline should also shuffle and batch the data (with some reasonable batch size; I used 64 because I'm training on a GPU but you might want to go lower).\n",
    "\n",
    "There are multiple ways to approach this.\n",
    "No matter what, you'll need two `tf.data.Dataset`s, one for train and one for test, and probably you'll do some transforms to that.\n",
    "I made datasets which did not use `repeat` -- you might instead repeat the data for as many epochs (full run-throughs of the dataset during training, ~5-10 for this assignment) as you plan to train for.\n",
    "\n",
    "Optionally, you might want to cache or prefetch data to prevent it from being loaded multiple times while the model is training and keep the model from needing to wait for data.\n",
    "\n",
    "Now might also be a good place to convert the labels to one-hot encoding (see below), though you don't need to.\n",
    "If you want, you could also do your data normalization on-the-fly here (but make sure it still does the same thing).\n",
    "\n",
    "I would also create `SummaryWriter`s for the train and test sets here.\n",
    "\n",
    "Functions to look at (not exhaustive):\n",
    " - `tf.data.Dataset.from_tensor_slices`\n",
    " - `tf.data.Dataset.shuffle`\n",
    " - `tf.data.Dataset.batch`\n",
    " - `tf.data.Dataset.repeat`"
   ]
  },
  {
   "cell_type": "code",
   "execution_count": 30,
   "metadata": {},
   "outputs": [],
   "source": [
    "n_epochs = 1000\n",
    "batch_size = 64\n",
    "n_train = x_train.shape[0]\n",
    "n_features = x_train.shape[1]\n",
    "n_batches_per_epoch_train = n_train // batch_size\n",
    "n_batches_per_epoch_test  = n_test  // batch_size\n",
    "\n",
    "train_dataset = tf.data.Dataset.from_tensor_slices((x_train, y_train)).shuffle(60000).batch(64).cache()\n",
    "test_dataset = tf.data.Dataset.from_tensor_slices((x_test, y_test)).shuffle(10000).batch(64).cache()"
   ]
  },
  {
   "cell_type": "markdown",
   "metadata": {},
   "source": [
    "## Section 3: build a model graph\n",
    "This is where the actual model gets built.\n",
    "I'll give you the steps, but there's flexibility in how you implement each part.\n",
    "Make sure your design is clean, both for efficiency and ease of debugging.\n",
    "Names help divide the model into logical parts.\n",
    "\n",
    "Note that the first axis of every tensor will be the batch size.\n",
    "So, a tensor that in your model is a scalar will likely have a shape of (?), and a 10-element vector will have a shape of (?, 10).\n",
    "The \"?\" indicates that TensorFlow will treat this axis as being variable-length, since it can't infer it just from context.\n",
    "It may be helpful to switch your thinking back and forth from one view (no batches, scalars are scalars) when thinking about modeling to another (scalars come in batches) when writing code that changes shapes.\n",
    "\n",
    "If you're having difficulty debugging, try looking at your graph in TensorBoard, printing tensor objects to see their shapes, and running small parts of the graph while feeding values to certain tensors.\n",
    "\n",
    "Functions to look at throughout:\n",
    " - `tf.cast`\n",
    " - `tf.expand_dims`\n",
    " - `tf.squeeze`\n",
    " - arithmetic operations"
   ]
  },
  {
   "cell_type": "markdown",
   "metadata": {},
   "source": [
    "### 3.1: Class\n",
    "Write a `tf.Module` class that will be your logistic regression model. You may want to implement your graph operations in the `__call__` method for convenience.\n",
    "\n",
    "#### 3.1.1: Variables\n",
    "Logistic regression needs two variables, correctly shaped: a weight matrix and a vector of biases. \n",
    "\n",
    "#### 3.1.2: Logits\n",
    "Compute the inputs to the softmax functiton, the logits or \"unnormalized probabilities.\" The result should be, for each example in the batch, a vector of ten values (so the tensor has a shape like (?, 10)).\n",
    "\n",
    "#### 3.1.3: Softmax\n",
    "Apply the softmax function to the logits to obtain a vector of class probabilities.\n",
    "Again, there should be a probability for each class for each example.\n",
    "Do _not_ use helper functions to compute the softmax function, like `tf.nn.softmax` or `tf.contrib.layers.softmax`.\n",
    "Instead, stick to core operations like `tf.exp`.\n",
    "\n",
    "Two main reasons for this:\n",
    " 1. Better to learn without the API doing too much of the work for you; when doing model development it'll basically all be from scratch\n",
    " 2. I couldn't get `tf.nn.softmax` to run on a GPU, so I'd do it this way in practice too\n",
    "\n",
    "#### 3.1.4: Trace function\n",
    "Write a trace function to export your graph to TensorBoard (or decorate the `__call__` method)."
   ]
  },
  {
   "cell_type": "code",
   "execution_count": null,
   "metadata": {},
   "outputs": [],
   "source": [
    "# Your code here"
   ]
  },
  {
   "cell_type": "markdown",
   "metadata": {},
   "source": [
    "### 3.2: Cross-entropy loss\n",
    "Compute the per-example cross-entropy loss $$L = -y \\cdot \\log p_\\text{model}(y)$$ using the probabilities and the correct label.\n",
    "\n",
    "Then, take the mean of the per-example losses to compute a per-batch loss.\n",
    "\n",
    "It may be convenient to convert the label to a one-hot vector: 10 elements, each of which is 0 except the place of the correct label.\n",
    "For instance, a label of \"3\" would be the vector $$[0, 0, 0, 1, 0, 0, 0, 0, 0, 0].$$\n",
    "\n",
    "Functions to look at:\n",
    " - `tf.one_hot`\n",
    " - `tf.math.log`"
   ]
  },
  {
   "cell_type": "code",
   "execution_count": null,
   "metadata": {},
   "outputs": [],
   "source": [
    "# Your code here"
   ]
  },
  {
   "cell_type": "markdown",
   "metadata": {},
   "source": [
    "### 3.3: The optimizer\n",
    "Add an optimizer (simple gradient descent is fine). You may need to play around with the learning rate to find one that works.\n",
    "\n",
    "Write a train and test method that each represent one step of training/testing. The train method should apply the optimizer to minimize the per-batch loss. Also, add a summary operation which saves the per-batch loss so you can plot it later.\n",
    "\n",
    "The model should predict the digit it assigns the highest probability. \n",
    "Add a tensor which represents what fraction of the batch the model predicted correctly (its accuracy, or average 0/1 loss), and a summary operation for accuracy.\n",
    "\n",
    "You should record these summaries for both training and testing.\n",
    "\n",
    "\n",
    "Functions to look at:\n",
    " - `tf.argmax`\n",
    " - `tf.equal`\n",
    " - `tf.reduce_mean`\n"
   ]
  },
  {
   "cell_type": "code",
   "execution_count": null,
   "metadata": {},
   "outputs": [],
   "source": [
    "# Your code here"
   ]
  },
  {
   "cell_type": "markdown",
   "metadata": {},
   "source": [
    "## Section 4: train the model\n",
    "Make a training loop which iterates through the full training set multiple times, and, for each batch run the train method you wrote earlier. \n",
    "\n",
    "After each epoch, iterate over the test dataset and print the average test accuracy over the whole test set.\n",
    "Finally, use a `Checkpoint` to save the whole graph to disk.\n",
    "\n",
    "Remember to: \n",
    " - Run your trace method once to export your graph to TensorBoard\n",
    " - Give train and test methods step numbers (batch steps)\n",
    "\n",
    "Then, run training.\n",
    "You should expect the model to hit about 90% test-set accuracy.\n",
    "Not bad for a linear model!\n",
    "If it doesn't, it might indicate a bug in your code, or you might need to tune hyperparameters (e.g. batch size, learning rate).\n",
    "The accuracy should sharply jump after the first epoch, so you don't need to wait for the full model to train to know you have a bug. \n",
    "\n",
    "You might notice, looking at the training plots on TensorBoard, how close the training and test errors are.\n",
    "This suggests our model is probably underfitting, and a more powerful model will do better.\n",
    "\n",
    "<sup><sub>My model was showing 20% accuracy and it took over an hour to figure out I was actually just computing accuracy wrong :(</sub></sup>"
   ]
  },
  {
   "cell_type": "code",
   "execution_count": null,
   "metadata": {},
   "outputs": [],
   "source": [
    "# Your code here"
   ]
  },
  {
   "cell_type": "markdown",
   "metadata": {},
   "source": [
    "## Section 5: use the model for inference\n",
    "Pull one or more examples from the test set and display its image.\n",
    "Then, use your model to predict what digit the image is, print that, and print the true label (which hopefully matches).\n",
    "\n",
    "Remember you'll need to spin up a new instance of your model and checkpoint, then use `Checkpoint.restore()` to load the trained model before inference."
   ]
  },
  {
   "cell_type": "code",
   "execution_count": null,
   "metadata": {},
   "outputs": [],
   "source": [
    "# Your code here"
   ]
  },
  {
   "cell_type": "markdown",
   "metadata": {},
   "source": [
    "## Section 6: visualizations\n",
    "Visualize, as an image (i.e. `plt.imshow`), the weight matrix for each of the digits.\n",
    "You might want to use the `vmin` and `vmax` arguments to put all of the matrices on the same scale. \n",
    "You'll need to load the weights again to save them to numpy arrays (by accessinging your class).\n",
    "\n",
    "The results are pretty interesting.\n",
    "The image should be brightest where the weights strongly indicate that digit, so you can see what's (linearly) characteristic of different digits -- I see a strong dark spot in the middle for zero, a distinctive curly tail on 2, and a consistent 3.\n",
    "Other digits (e.g. 8 and 9) have much weaker patterns, suggesting greater variation in how people draw them."
   ]
  },
  {
   "cell_type": "code",
   "execution_count": 5,
   "metadata": {},
   "outputs": [],
   "source": [
    "# Your code here"
   ]
  }
 ],
 "metadata": {
  "kernelspec": {
   "display_name": "Python 3",
   "language": "python",
   "name": "python3"
  },
  "language_info": {
   "codemirror_mode": {
    "name": "ipython",
    "version": 3
   },
   "file_extension": ".py",
   "mimetype": "text/x-python",
   "name": "python",
   "nbconvert_exporter": "python",
   "pygments_lexer": "ipython3",
   "version": "3.7.9"
  }
 },
 "nbformat": 4,
 "nbformat_minor": 4
}
