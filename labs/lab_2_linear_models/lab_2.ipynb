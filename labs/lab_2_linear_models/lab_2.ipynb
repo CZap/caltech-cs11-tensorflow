{
 "cells": [
  {
   "cell_type": "markdown",
   "metadata": {},
   "source": [
    "# Lab 2: Linear Models\n",
    "This lab, like the others that follow it, will be a small, largely self-guided project in building a machine learning model.\n",
    "You will write a logistic regression classifier, from scratch, to classify 28x28 pixel images of handwritten digits (0 - 9) by which digit appears in the image.\n",
    "This is [the famous MNIST dataset](http://yann.lecun.com/exdb/mnist/), which has 60,000 training examples and 10,000 test examples."
   ]
  },
  {
   "cell_type": "code",
   "execution_count": 1,
   "metadata": {},
   "outputs": [],
   "source": [
    "%matplotlib inline\n",
    "import numpy as np\n",
    "import tensorflow as tf\n",
    "import matplotlib.pyplot as plt\n",
    "import datetime\n",
    "# Any other imports you need go here"
   ]
  },
  {
   "cell_type": "markdown",
   "metadata": {},
   "source": [
    "## Section 0: download the data\n",
    "Download the data as a CSV [here](https://pjreddie.com/projects/mnist-in-csv/) (the original data format is very unfriendly) and read the data format on the website."
   ]
  },
  {
   "cell_type": "markdown",
   "metadata": {},
   "source": [
    "## Section 1: load, understand, and preprocess the data\n",
    "Load the data from disk into four numpy arrays: x_train (feature vectors from the training set), y_train (labels from the training set), x_test (feature vectors from the test set), and y_test (labels from the test set).\n",
    "\n",
    "Then, do some simple preprocessing.\n",
    "Normalize your features by subtracting the mean and dividing by the range.\n",
    "This is less important for linear models, but is generally good practice and will be much more important with more complex models.\n",
    "Make sure you don't use any values computed from the test set, just the mean and range of the training set.\n",
    "\n",
    "Finally, display one of the training images, and print its correct label.\n",
    "\n",
    "Functions to look at:\n",
    " - `np.loadtxt`\n",
    " - `np.reshape`\n",
    " - `plt.imshow`"
   ]
  },
  {
   "cell_type": "code",
   "execution_count": 2,
   "metadata": {},
   "outputs": [],
   "source": [
    "y_train = np.loadtxt('mnist_train.csv', delimiter = ',', usecols = [0])\n",
    "y_test = np.loadtxt('mnist_test.csv', delimiter = ',', usecols = [0])\n",
    "x_train = np.loadtxt('mnist_train.csv', delimiter = ',')\n",
    "x_test = np.loadtxt('mnist_test.csv', delimiter = ',')\n",
    "x_train = np.delete(x_train, 0, axis = 1) #removing the first column from the features arrays\n",
    "x_test = np.delete(x_test, 0, axis = 1)\n",
    "x_train_mean = tf.reduce_mean(x_train) #calculating mean\n",
    "x_train_range = np.abs(tf.reduce_max(x_train) - tf.reduce_min(x_train)) #calculating range\n",
    "x_train = (x_train - x_train_mean) / x_train_range #normalizing features\n",
    "x_test = (x_test - x_train_mean) / x_train_range"
   ]
  },
  {
   "cell_type": "code",
   "execution_count": 3,
   "metadata": {},
   "outputs": [
    {
     "name": "stdout",
     "output_type": "stream",
     "text": [
      "5.0\n"
     ]
    },
    {
     "data": {
      "image/png": "[encoded data removed]",
      "text/plain": [
       "<Figure size 432x288 with 1 Axes>"
      ]
     },
     "metadata": {
      "needs_background": "light"
     },
     "output_type": "display_data"
    }
   ],
   "source": [
    "plt.imshow(np.reshape(x_train[0], (28, 28)), cmap='gray') #show training image by reshaping the row to a square matrix\n",
    "print(y_train[0]) #print label for first training image"
   ]
  },
  {
   "cell_type": "markdown",
   "metadata": {},
   "source": [
    "## Section 2: build a data pipeline\n",
    "Make a pipeline that turns the dataset you have in numpy arrays into tensors that your model can use.\n",
    "The pipeline should also shuffle and batch the data (with some reasonable batch size; I used 64 because I'm training on a GPU but you might want to go lower).\n",
    "\n",
    "There are multiple ways to approach this.\n",
    "No matter what, you'll need two `tf.data.Dataset`s, one for train and one for test, and probably you'll do some transforms to that.\n",
    "I made datasets which did not use `repeat` -- you might instead repeat the data for as many epochs (full run-throughs of the dataset during training, ~5-10 for this assignment) as you plan to train for.\n",
    "\n",
    "Optionally, you might want to cache or prefetch data to prevent it from being loaded multiple times while the model is training and keep the model from needing to wait for data.\n",
    "\n",
    "Now might also be a good place to convert the labels to one-hot encoding (see below), though you don't need to.\n",
    "If you want, you could also do your data normalization on-the-fly here (but make sure it still does the same thing).\n",
    "\n",
    "I would also create `SummaryWriter`s for the train and test sets here.\n",
    "\n",
    "Functions to look at (not exhaustive):\n",
    " - `tf.data.Dataset.from_tensor_slices`\n",
    " - `tf.data.Dataset.shuffle`\n",
    " - `tf.data.Dataset.batch`\n",
    " - `tf.data.Dataset.repeat`"
   ]
  },
  {
   "cell_type": "code",
   "execution_count": 4,
   "metadata": {},
   "outputs": [],
   "source": [
    "n_epochs = 5\n",
    "batch_size = 16\n",
    "n_train = x_train.shape[0]\n",
    "n_features = x_train.shape[1]\n",
    "n_classes = 10 #10 different digits\n",
    "n_test = x_test.shape[0]\n",
    "n_batches_per_epoch_train = n_train // batch_size\n",
    "n_batches_per_epoch_test  = n_test  // batch_size\n",
    "log_dir = \"logs_lab2\\\\fit\\\\\" + datetime.datetime.now().strftime(\"%Y%m%d-%H%M%S\")\n",
    "\n",
    "train_dataset = tf.data.Dataset.from_tensor_slices((x_train, y_train)).shuffle(n_train).batch(batch_size)\n",
    "test_dataset = tf.data.Dataset.from_tensor_slices((x_test, y_test)).shuffle(n_test).batch(batch_size)\n",
    "train_writer = tf.summary.create_file_writer(log_dir + '/train')\n",
    "test_writer = tf.summary.create_file_writer(log_dir + '/test')"
   ]
  },
  {
   "cell_type": "markdown",
   "metadata": {},
   "source": [
    "## Section 3: build a model graph\n",
    "This is where the actual model gets built.\n",
    "I'll give you the steps, but there's flexibility in how you implement each part.\n",
    "Make sure your design is clean, both for efficiency and ease of debugging.\n",
    "Names help divide the model into logical parts.\n",
    "\n",
    "Note that the first axis of every tensor will be the batch size.\n",
    "So, a tensor that in your model is a scalar will likely have a shape of (?), and a 10-element vector will have a shape of (?, 10).\n",
    "The \"?\" indicates that TensorFlow will treat this axis as being variable-length, since it can't infer it just from context.\n",
    "It may be helpful to switch your thinking back and forth from one view (no batches, scalars are scalars) when thinking about modeling to another (scalars come in batches) when writing code that changes shapes.\n",
    "\n",
    "If you're having difficulty debugging, try looking at your graph in TensorBoard, printing tensor objects to see their shapes, and running small parts of the graph while feeding values to certain tensors.\n",
    "\n",
    "Functions to look at throughout:\n",
    " - `tf.cast`\n",
    " - `tf.expand_dims`\n",
    " - `tf.squeeze`\n",
    " - arithmetic operations"
   ]
  },
  {
   "cell_type": "markdown",
   "metadata": {},
   "source": [
    "### 3.1: Class\n",
    "Write a `tf.Module` class that will be your logistic regression model. You may want to implement your graph operations in the `__call__` method for convenience.\n",
    "\n",
    "#### 3.1.1: Variables\n",
    "Logistic regression needs two variables, correctly shaped: a weight matrix and a vector of biases. \n",
    "\n",
    "#### 3.1.2: Logits\n",
    "Compute the inputs to the softmax functiton, the logits or \"unnormalized probabilities.\" The result should be, for each example in the batch, a vector of ten values (so the tensor has a shape like (?, 10)).\n",
    "\n",
    "#### 3.1.3: Softmax\n",
    "Apply the softmax function to the logits to obtain a vector of class probabilities.\n",
    "Again, there should be a probability for each class for each example.\n",
    "Do _not_ use helper functions to compute the softmax function, like `tf.nn.softmax` or `tf.contrib.layers.softmax`.\n",
    "Instead, stick to core operations like `tf.exp`.\n",
    "\n",
    "Two main reasons for this:\n",
    " 1. Better to learn without the API doing too much of the work for you; when doing model development it'll basically all be from scratch\n",
    " 2. I couldn't get `tf.nn.softmax` to run on a GPU, so I'd do it this way in practice too\n",
    "\n",
    "#### 3.1.4: Trace function\n",
    "Write a trace function to export your graph to TensorBoard (or decorate the `__call__` method)."
   ]
  },
  {
   "cell_type": "code",
   "execution_count": 5,
   "metadata": {},
   "outputs": [],
   "source": [
    "class LogisticRegression(tf.Module):\n",
    "    def __init__(self, name=None):\n",
    "        super().__init__(name)\n",
    "        self.weights = tf.Variable(tf.zeros_initializer()(shape = (n_features, n_classes,), dtype = tf.float32), \\\n",
    "                                   name = 'weights')\n",
    "        self.bias = tf.Variable(tf.zeros_initializer()(shape = (n_classes,), dtype = tf.float32), name = 'bias')\n",
    "\n",
    "    \n",
    "    def __call__(self, x):\n",
    "        x = tf.cast(x, tf.float32)\n",
    "        weights_product = tf.matmul(x, self.weights)\n",
    "        logits = tf.add(weights_product, tf.expand_dims(self.bias, axis = 0))\n",
    "        softmax = tf.exp(logits) / tf.reduce_sum(tf.exp(logits)) \n",
    "       # softmax_clipped = tf.clip_by_value(softmax, 0, 1) #optional extra step to ensure that values are between 0 and 1\n",
    "        return tf.squeeze(softmax)\n",
    "@tf.function\n",
    "def trace_function(model, x):\n",
    "    model(x)"
   ]
  },
  {
   "cell_type": "markdown",
   "metadata": {},
   "source": [
    "### 3.2: Cross-entropy loss\n",
    "Compute the per-example cross-entropy loss $$L = -y \\cdot \\log p_\\text{model}(y)$$ using the probabilities and the correct label.\n",
    "\n",
    "Then, take the mean of the per-example losses to compute a per-batch loss.\n",
    "\n",
    "It may be convenient to convert the label to a one-hot vector: 10 elements, each of which is 0 except the place of the correct label.\n",
    "For instance, a label of \"3\" would be the vector $$[0, 0, 0, 1, 0, 0, 0, 0, 0, 0].$$\n",
    "\n",
    "Functions to look at:\n",
    " - `tf.one_hot`\n",
    " - `tf.math.log`"
   ]
  },
  {
   "cell_type": "code",
   "execution_count": 6,
   "metadata": {},
   "outputs": [],
   "source": [
    "def _loss(target, model):\n",
    "    batch_losses = []\n",
    "    for i, e in enumerate(target):\n",
    "        target_o_h = tf.one_hot(int(e.numpy()), n_classes)\n",
    "        model_log = tf.math.log(model[i])\n",
    "        cross_entropy = -1 * tf.reduce_sum(target_o_h * model_log) #takes the sum of losses for all classes since there is at most one nonzero loss\n",
    "        batch_losses.append(cross_entropy)\n",
    "    batch_losses_tensor = tf.convert_to_tensor(batch_losses) #convert list of tensors to a tensor by concatenation\n",
    "    return (tf.reduce_mean(batch_losses_tensor)) #take the mean of loss for the batch"
   ]
  },
  {
   "cell_type": "markdown",
   "metadata": {},
   "source": [
    "### 3.3: The optimizer\n",
    "Add an optimizer (simple gradient descent is fine). You may need to play around with the learning rate to find one that works.\n",
    "\n",
    "Write a train and test method that each represent one step of training/testing. The train method should apply the optimizer to minimize the per-batch loss. Also, add a summary operation which saves the per-batch loss so you can plot it later.\n",
    "\n",
    "The model should predict the digit it assigns the highest probability. \n",
    "Add a tensor which represents what fraction of the batch the model predicted correctly (its accuracy, or average 0/1 loss), and a summary operation for accuracy.\n",
    "\n",
    "You should record these summaries for both training and testing.\n",
    "\n",
    "\n",
    "Functions to look at:\n",
    " - `tf.argmax`\n",
    " - `tf.equal`\n",
    " - `tf.reduce_mean`\n"
   ]
  },
  {
   "cell_type": "code",
   "execution_count": 7,
   "metadata": {},
   "outputs": [],
   "source": [
    "optimizer = tf.optimizers.SGD(.0001)\n",
    "\n",
    "def train(model, x, y , i):\n",
    "    with tf.GradientTape() as g:\n",
    "        cross_entropy_loss = lambda: _loss(y, model(x)) #lambda fn to get loss per batch\n",
    "    \n",
    "    optimizer.minimize(cross_entropy_loss, model.trainable_variables) #minimize batch loss with respect to weights and biases\n",
    "    \n",
    "    with train_writer.as_default():\n",
    "        tf.summary.scalar('cross-entropy loss', cross_entropy_loss(), step=i) #logging of cross entropy loss each epoch\n",
    "        #tf.summary.scalar('loss', evaluate_pred_accuracy(model, x, y, i), step=i) #logging of prediction loss each epoch\n",
    "\n",
    "def test(model, x, y, i):\n",
    "    loss = evaluate_pred_accuracy(model, x, y, i)\n",
    "    with test_writer.as_default():\n",
    "        tf.summary.scalar('loss', loss, step=i)\n",
    "    return (loss)\n",
    "\n",
    "def evaluate_pred_accuracy(model, x, y, i):\n",
    "    #helper function for evaluating percentage of predictions missed\n",
    "    results_tensor = predict(model, x)\n",
    "    correct_predictions = tf.reduce_sum(tf.cast(tf.equal(results_tensor, tf.cast(y, tf.int64)), tf.float32))\n",
    "    pred_accuracy = 1 - correct_predictions/tf.cast(tf.size(y), tf.float32)\n",
    "    return (pred_accuracy)\n",
    "\n",
    "def predict(model, x): \n",
    "    #helper function for evaluating predicted values\n",
    "    model_pred = model(x)\n",
    "    results_list = []\n",
    "    for j in range (tf.shape(x)[0]):\n",
    "        result = tf.argmax(model_pred[j])\n",
    "        results_list.append(result)\n",
    "    results_tensor = tf.convert_to_tensor(results_list)\n",
    "    return(results_tensor)"
   ]
  },
  {
   "cell_type": "markdown",
   "metadata": {},
   "source": [
    "## Section 4: train the model\n",
    "Make a training loop which iterates through the full training set multiple times, and, for each batch run the train method you wrote earlier. \n",
    "\n",
    "After each epoch, iterate over the test dataset and print the average test accuracy over the whole test set.\n",
    "Finally, use a `Checkpoint` to save the whole graph to disk.\n",
    "\n",
    "Remember to: \n",
    " - Run your trace method once to export your graph to TensorBoard\n",
    " - Give train and test methods step numbers (batch steps)\n",
    "\n",
    "Then, run training.\n",
    "You should expect the model to hit about 90% test-set accuracy.\n",
    "Not bad for a linear model!\n",
    "If it doesn't, it might indicate a bug in your code, or you might need to tune hyperparameters (e.g. batch size, learning rate).\n",
    "The accuracy should sharply jump after the first epoch, so you don't need to wait for the full model to train to know you have a bug. \n",
    "\n",
    "You might notice, looking at the training plots on TensorBoard, how close the training and test errors are.\n",
    "This suggests our model is probably underfitting, and a more powerful model will do better.\n",
    "\n",
    "<sup><sub>My model was showing 20% accuracy and it took over an hour to figure out I was actually just computing accuracy wrong :(</sub></sup>"
   ]
  },
  {
   "cell_type": "code",
   "execution_count": 8,
   "metadata": {},
   "outputs": [
    {
     "name": "stdout",
     "output_type": "stream",
     "text": [
      "Epoch:\t 0\n",
      "Average Test Set Loss:\t 0.2443\n",
      "Epoch:\t 1\n",
      "Average Test Set Loss:\t 0.2232\n",
      "Epoch:\t 2\n",
      "Average Test Set Loss:\t 0.2074\n",
      "Epoch:\t 3\n",
      "Average Test Set Loss:\t 0.1944\n",
      "Epoch:\t 4\n",
      "Average Test Set Loss:\t 0.1832\n"
     ]
    },
    {
     "data": {
      "text/plain": [
       "'./checkpoints_lab2/model'"
      ]
     },
     "execution_count": 8,
     "metadata": {},
     "output_type": "execute_result"
    }
   ],
   "source": [
    "model = LogisticRegression()\n",
    "train_batch = 0\n",
    "test_batch = 0\n",
    "\n",
    "for i in range(n_epochs):\n",
    "    for x, y in train_dataset:\n",
    "        if train_batch == 0:\n",
    "            tf.summary.trace_on(graph=True, profiler=True) #initializing tensorboard graph\n",
    "            trace_function(model, x) #running trace method once\n",
    "            with train_writer.as_default():\n",
    "                tf.summary.trace_export(name='first training batch', step=0, profiler_outdir=log_dir)\n",
    "        train(model, x, y, train_batch) #calling train iteration\n",
    "        train_batch += 1\n",
    "    print('Epoch:\\t', i)\n",
    "    test_losses = []\n",
    "    for x, y in test_dataset:\n",
    "        test_losses.append(test(model, x, y, test_batch))\n",
    "    test_batch += train_batch - test_batch #align with training step\n",
    "    print('Average Test Set Loss:\\t', np.mean(test_losses))\n",
    "#checkpoint for saving the model    \n",
    "checkpoint = tf.train.Checkpoint(model = model)\n",
    "checkpoint.write('./checkpoints_lab2/model')"
   ]
  },
  {
   "cell_type": "markdown",
   "metadata": {},
   "source": [
    "## Section 5: use the model for inference\n",
    "Pull one or more examples from the test set and display its image.\n",
    "Then, use your model to predict what digit the image is, print that, and print the true label (which hopefully matches).\n",
    "\n",
    "Remember you'll need to spin up a new instance of your model and checkpoint, then use `Checkpoint.restore()` to load the trained model before inference."
   ]
  },
  {
   "cell_type": "code",
   "execution_count": 9,
   "metadata": {},
   "outputs": [
    {
     "name": "stdout",
     "output_type": "stream",
     "text": [
      "Predicted values: \n",
      "[3 6 8 ... 0 4 7]\n",
      "Actual values: \n",
      "[5 6 3 ... 0 4 7]\n",
      "Score: 14.0/16\n"
     ]
    }
   ],
   "source": [
    "new_model = LogisticRegression()\n",
    "new_check = tf.train.Checkpoint(model=new_model)\n",
    "new_check.restore('./checkpoints_lab2/model')\n",
    "\n",
    "#take batch from test_dataset\n",
    "values_features, values_labels = iter(test_dataset).get_next()\n",
    "\n",
    "pred = predict(new_model, values_features)\n",
    "correct_predictions = tf.reduce_sum(tf.cast(tf.equal(pred, tf.cast(values_labels, tf.int64)), tf.float32))\n",
    "#print predictions\n",
    "print('Predicted values: ')\n",
    "tf.print(predict(new_model, values_features))\n",
    "#print labels\n",
    "print('Actual values: ')\n",
    "tf.print(values_labels)\n",
    "#display score as a fraction\n",
    "print('Score: ' + str(correct_predictions.numpy()) + '/' + str(tf.size(pred).numpy()))"
   ]
  },
  {
   "cell_type": "markdown",
   "metadata": {},
   "source": [
    "## Section 6: visualizations\n",
    "Visualize, as an image (i.e. `plt.imshow`), the weight matrix for each of the digits.\n",
    "You might want to use the `vmin` and `vmax` arguments to put all of the matrices on the same scale. \n",
    "You'll need to load the weights again to save them to numpy arrays (by accessinging your class).\n",
    "\n",
    "The results are pretty interesting.\n",
    "The image should be brightest where the weights strongly indicate that digit, so you can see what's (linearly) characteristic of different digits -- I see a strong dark spot in the middle for zero, a distinctive curly tail on 2, and a consistent 3.\n",
    "Other digits (e.g. 8 and 9) have much weaker patterns, suggesting greater variation in how people draw them."
   ]
  },
  {
   "cell_type": "code",
   "execution_count": 10,
   "metadata": {},
   "outputs": [
    {
     "data": {
      "image/png": "[encoded data removed]",
      "text/plain": [
       "<Figure size 432x288 with 1 Axes>"
      ]
     },
     "metadata": {
      "needs_background": "light"
     },
     "output_type": "display_data"
    },
    {
     "name": "stdout",
     "output_type": "stream",
     "text": [
      "0\n"
     ]
    },
    {
     "data": {
      "image/png": "[encoded data removed]",
      "text/plain": [
       "<Figure size 432x288 with 1 Axes>"
      ]
     },
     "metadata": {
      "needs_background": "light"
     },
     "output_type": "display_data"
    },
    {
     "name": "stdout",
     "output_type": "stream",
     "text": [
      "1\n"
     ]
    },
    {
     "data": {
      "image/png": "[encoded data removed]",
      "text/plain": [
       "<Figure size 432x288 with 1 Axes>"
      ]
     },
     "metadata": {
      "needs_background": "light"
     },
     "output_type": "display_data"
    },
    {
     "name": "stdout",
     "output_type": "stream",
     "text": [
      "2\n"
     ]
    },
    {
     "data": {
      "image/png": "[encoded data removed]",
      "text/plain": [
       "<Figure size 432x288 with 1 Axes>"
      ]
     },
     "metadata": {
      "needs_background": "light"
     },
     "output_type": "display_data"
    },
    {
     "name": "stdout",
     "output_type": "stream",
     "text": [
      "3\n"
     ]
    },
    {
     "data": {
      "image/png": "[encoded data removed]",
      "text/plain": [
       "<Figure size 432x288 with 1 Axes>"
      ]
     },
     "metadata": {
      "needs_background": "light"
     },
     "output_type": "display_data"
    },
    {
     "name": "stdout",
     "output_type": "stream",
     "text": [
      "4\n"
     ]
    },
    {
     "data": {
      "image/png": "[encoded data removed]",
      "text/plain": [
       "<Figure size 432x288 with 1 Axes>"
      ]
     },
     "metadata": {
      "needs_background": "light"
     },
     "output_type": "display_data"
    },
    {
     "name": "stdout",
     "output_type": "stream",
     "text": [
      "5\n"
     ]
    },
    {
     "data": {
      "image/png": "[encoded data removed]",
      "text/plain": [
       "<Figure size 432x288 with 1 Axes>"
      ]
     },
     "metadata": {
      "needs_background": "light"
     },
     "output_type": "display_data"
    },
    {
     "name": "stdout",
     "output_type": "stream",
     "text": [
      "6\n"
     ]
    },
    {
     "data": {
      "image/png": "[encoded data removed]",
      "text/plain": [
       "<Figure size 432x288 with 1 Axes>"
      ]
     },
     "metadata": {
      "needs_background": "light"
     },
     "output_type": "display_data"
    },
    {
     "name": "stdout",
     "output_type": "stream",
     "text": [
      "7\n"
     ]
    },
    {
     "data": {
      "image/png": "[encoded data removed]",
      "text/plain": [
       "<Figure size 432x288 with 1 Axes>"
      ]
     },
     "metadata": {
      "needs_background": "light"
     },
     "output_type": "display_data"
    },
    {
     "name": "stdout",
     "output_type": "stream",
     "text": [
      "8\n"
     ]
    },
    {
     "data": {
      "image/png": "[encoded data removed]",
      "text/plain": [
       "<Figure size 432x288 with 1 Axes>"
      ]
     },
     "metadata": {
      "needs_background": "light"
     },
     "output_type": "display_data"
    },
    {
     "name": "stdout",
     "output_type": "stream",
     "text": [
      "9\n"
     ]
    }
   ],
   "source": [
    "weights = tf.transpose(new_model.weights)\n",
    "for i in range(10):\n",
    "    plt.figure(i)\n",
    "    plt.imshow(np.reshape(weights[i], (28, 28))) #show training image by reshaping the row to a square matrix\n",
    "    plt.show()\n",
    "    print(i) #print label for first training image"
   ]
  },
  {
   "cell_type": "code",
   "execution_count": null,
   "metadata": {},
   "outputs": [],
   "source": []
  }
 ],
 "metadata": {
  "kernelspec": {
   "display_name": "Python 3",
   "language": "python",
   "name": "python3"
  },
  "language_info": {
   "codemirror_mode": {
    "name": "ipython",
    "version": 3
   },
   "file_extension": ".py",
   "mimetype": "text/x-python",
   "name": "python",
   "nbconvert_exporter": "python",
   "pygments_lexer": "ipython3",
   "version": "3.7.9"
  }
 },
 "nbformat": 4,
 "nbformat_minor": 4
}
